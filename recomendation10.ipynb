{
 "cells": [
  {
   "cell_type": "code",
   "execution_count": 67,
   "metadata": {},
   "outputs": [
    {
     "data": {
      "text/html": [
       "<div>\n",
       "<style scoped>\n",
       "    .dataframe tbody tr th:only-of-type {\n",
       "        vertical-align: middle;\n",
       "    }\n",
       "\n",
       "    .dataframe tbody tr th {\n",
       "        vertical-align: top;\n",
       "    }\n",
       "\n",
       "    .dataframe thead th {\n",
       "        text-align: right;\n",
       "    }\n",
       "</style>\n",
       "<table border=\"1\" class=\"dataframe\">\n",
       "  <thead>\n",
       "    <tr style=\"text-align: right;\">\n",
       "      <th></th>\n",
       "      <th>Unnamed: 0</th>\n",
       "      <th>article_id</th>\n",
       "      <th>title</th>\n",
       "      <th>email</th>\n",
       "    </tr>\n",
       "  </thead>\n",
       "  <tbody>\n",
       "    <tr>\n",
       "      <td>0</td>\n",
       "      <td>0</td>\n",
       "      <td>1430.0</td>\n",
       "      <td>using pixiedust for fast, flexible, and easier...</td>\n",
       "      <td>ef5f11f77ba020cd36e1105a00ab868bbdbf7fe7</td>\n",
       "    </tr>\n",
       "    <tr>\n",
       "      <td>1</td>\n",
       "      <td>1</td>\n",
       "      <td>1314.0</td>\n",
       "      <td>healthcare python streaming application demo</td>\n",
       "      <td>083cbdfa93c8444beaa4c5f5e0f5f9198e4f9e0b</td>\n",
       "    </tr>\n",
       "    <tr>\n",
       "      <td>2</td>\n",
       "      <td>2</td>\n",
       "      <td>1429.0</td>\n",
       "      <td>use deep learning for image classification</td>\n",
       "      <td>b96a4f2e92d8572034b1e9b28f9ac673765cd074</td>\n",
       "    </tr>\n",
       "    <tr>\n",
       "      <td>3</td>\n",
       "      <td>3</td>\n",
       "      <td>1338.0</td>\n",
       "      <td>ml optimization using cognitive assistant</td>\n",
       "      <td>06485706b34a5c9bf2a0ecdac41daf7e7654ceb7</td>\n",
       "    </tr>\n",
       "    <tr>\n",
       "      <td>4</td>\n",
       "      <td>4</td>\n",
       "      <td>1276.0</td>\n",
       "      <td>deploy your python model as a restful api</td>\n",
       "      <td>f01220c46fc92c6e6b161b1849de11faacd7ccb2</td>\n",
       "    </tr>\n",
       "  </tbody>\n",
       "</table>\n",
       "</div>"
      ],
      "text/plain": [
       "   Unnamed: 0  article_id                                              title  \\\n",
       "0           0      1430.0  using pixiedust for fast, flexible, and easier...   \n",
       "1           1      1314.0       healthcare python streaming application demo   \n",
       "2           2      1429.0         use deep learning for image classification   \n",
       "3           3      1338.0          ml optimization using cognitive assistant   \n",
       "4           4      1276.0          deploy your python model as a restful api   \n",
       "\n",
       "                                      email  \n",
       "0  ef5f11f77ba020cd36e1105a00ab868bbdbf7fe7  \n",
       "1  083cbdfa93c8444beaa4c5f5e0f5f9198e4f9e0b  \n",
       "2  b96a4f2e92d8572034b1e9b28f9ac673765cd074  \n",
       "3  06485706b34a5c9bf2a0ecdac41daf7e7654ceb7  \n",
       "4  f01220c46fc92c6e6b161b1849de11faacd7ccb2  "
      ]
     },
     "execution_count": 67,
     "metadata": {},
     "output_type": "execute_result"
    }
   ],
   "source": [
    "import pandas as pd\n",
    "import numpy as np\n",
    "import matplotlib.pyplot as plt\n",
    "import pickle\n",
    "df = pd.read_csv('user-item-interactions.csv')\n",
    "df1 = pd.read_csv('articles_community.csv')\n",
    "df.head()\n"
   ]
  },
  {
   "cell_type": "code",
   "execution_count": 66,
   "metadata": {},
   "outputs": [
    {
     "data": {
      "text/html": [
       "<div>\n",
       "<style scoped>\n",
       "    .dataframe tbody tr th:only-of-type {\n",
       "        vertical-align: middle;\n",
       "    }\n",
       "\n",
       "    .dataframe tbody tr th {\n",
       "        vertical-align: top;\n",
       "    }\n",
       "\n",
       "    .dataframe thead th {\n",
       "        text-align: right;\n",
       "    }\n",
       "</style>\n",
       "<table border=\"1\" class=\"dataframe\">\n",
       "  <thead>\n",
       "    <tr style=\"text-align: right;\">\n",
       "      <th></th>\n",
       "      <th>Unnamed: 0</th>\n",
       "      <th>doc_body</th>\n",
       "      <th>doc_description</th>\n",
       "      <th>doc_full_name</th>\n",
       "      <th>doc_status</th>\n",
       "      <th>article_id</th>\n",
       "    </tr>\n",
       "  </thead>\n",
       "  <tbody>\n",
       "    <tr>\n",
       "      <td>0</td>\n",
       "      <td>3</td>\n",
       "      <td>Skip navigation Sign in SearchLoading...\\r\\n\\r...</td>\n",
       "      <td>Detect bad readings in real time using Python ...</td>\n",
       "      <td>Detect Malfunctioning IoT Sensors with Streami...</td>\n",
       "      <td>Live</td>\n",
       "      <td>0</td>\n",
       "    </tr>\n",
       "    <tr>\n",
       "      <td>1</td>\n",
       "      <td>5</td>\n",
       "      <td>No Free Hunch Navigation * kaggle.com\\r\\n\\r\\n ...</td>\n",
       "      <td>See the forest, see the trees. Here lies the c...</td>\n",
       "      <td>Communicating data science: A guide to present...</td>\n",
       "      <td>Live</td>\n",
       "      <td>1</td>\n",
       "    </tr>\n",
       "    <tr>\n",
       "      <td>2</td>\n",
       "      <td>7</td>\n",
       "      <td>☰ * Login\\r\\n * Sign Up\\r\\n\\r\\n * Learning Pat...</td>\n",
       "      <td>Here’s this week’s news in Data Science and Bi...</td>\n",
       "      <td>This Week in Data Science (April 18, 2017)</td>\n",
       "      <td>Live</td>\n",
       "      <td>2</td>\n",
       "    </tr>\n",
       "    <tr>\n",
       "      <td>3</td>\n",
       "      <td>8</td>\n",
       "      <td>DATALAYER: HIGH THROUGHPUT, LOW LATENCY AT SCA...</td>\n",
       "      <td>Learn how distributed DBs solve the problem of...</td>\n",
       "      <td>DataLayer Conference: Boost the performance of...</td>\n",
       "      <td>Live</td>\n",
       "      <td>3</td>\n",
       "    </tr>\n",
       "    <tr>\n",
       "      <td>4</td>\n",
       "      <td>12</td>\n",
       "      <td>Skip navigation Sign in SearchLoading...\\r\\n\\r...</td>\n",
       "      <td>This video demonstrates the power of IBM DataS...</td>\n",
       "      <td>Analyze NY Restaurant data using Spark in DSX</td>\n",
       "      <td>Live</td>\n",
       "      <td>4</td>\n",
       "    </tr>\n",
       "  </tbody>\n",
       "</table>\n",
       "</div>"
      ],
      "text/plain": [
       "   Unnamed: 0                                           doc_body  \\\n",
       "0           3  Skip navigation Sign in SearchLoading...\\r\\n\\r...   \n",
       "1           5  No Free Hunch Navigation * kaggle.com\\r\\n\\r\\n ...   \n",
       "2           7  ☰ * Login\\r\\n * Sign Up\\r\\n\\r\\n * Learning Pat...   \n",
       "3           8  DATALAYER: HIGH THROUGHPUT, LOW LATENCY AT SCA...   \n",
       "4          12  Skip navigation Sign in SearchLoading...\\r\\n\\r...   \n",
       "\n",
       "                                     doc_description  \\\n",
       "0  Detect bad readings in real time using Python ...   \n",
       "1  See the forest, see the trees. Here lies the c...   \n",
       "2  Here’s this week’s news in Data Science and Bi...   \n",
       "3  Learn how distributed DBs solve the problem of...   \n",
       "4  This video demonstrates the power of IBM DataS...   \n",
       "\n",
       "                                       doc_full_name doc_status  article_id  \n",
       "0  Detect Malfunctioning IoT Sensors with Streami...       Live           0  \n",
       "1  Communicating data science: A guide to present...       Live           1  \n",
       "2         This Week in Data Science (April 18, 2017)       Live           2  \n",
       "3  DataLayer Conference: Boost the performance of...       Live           3  \n",
       "4      Analyze NY Restaurant data using Spark in DSX       Live           4  "
      ]
     },
     "execution_count": 66,
     "metadata": {},
     "output_type": "execute_result"
    }
   ],
   "source": [
    "df1.head()\n"
   ]
  },
  {
   "cell_type": "code",
   "execution_count": 4,
   "metadata": {},
   "outputs": [
    {
     "data": {
      "text/plain": [
       "(45993, 4)"
      ]
     },
     "execution_count": 4,
     "metadata": {},
     "output_type": "execute_result"
    }
   ],
   "source": [
    "df.shape"
   ]
  },
  {
   "cell_type": "code",
   "execution_count": 5,
   "metadata": {},
   "outputs": [
    {
     "data": {
      "text/plain": [
       "1429.0    937\n",
       "1330.0    927\n",
       "1431.0    671\n",
       "1427.0    643\n",
       "1364.0    627\n",
       "         ... \n",
       "974.0       1\n",
       "417.0       1\n",
       "1113.0      1\n",
       "984.0       1\n",
       "1072.0      1\n",
       "Name: article_id, Length: 714, dtype: int64"
      ]
     },
     "execution_count": 5,
     "metadata": {},
     "output_type": "execute_result"
    }
   ],
   "source": [
    "df.article_id.value_counts()"
   ]
  },
  {
   "cell_type": "code",
   "execution_count": 5,
   "metadata": {},
   "outputs": [
    {
     "data": {
      "text/plain": [
       "title\n",
       "0 to life-changing app: new apache systemml api on spark shell                       35\n",
       "0 to life-changing app: scala first steps and an interview with jakob odersky        26\n",
       "10 data science podcasts you need to be listening to right now                       41\n",
       "10 data science, machine learning and ai podcasts you must listen to                 25\n",
       "10 essential algorithms for machine learning engineers                               95\n",
       "                                                                                     ..\n",
       "worldwide county and region - national accounts - gross national income 1948-2010     4\n",
       "worldwide electricity demand and production 1990-2012                                22\n",
       "worldwide fuel oil consumption by household (in 1000 metric tons)                     5\n",
       "xml2 1.0.0                                                                           10\n",
       "you could be looking at it all wrong                                                  8\n",
       "Name: article_id, Length: 714, dtype: int64"
      ]
     },
     "execution_count": 5,
     "metadata": {},
     "output_type": "execute_result"
    }
   ],
   "source": [
    "df.groupby('title')['article_id'].count()\n"
   ]
  },
  {
   "cell_type": "code",
   "execution_count": 8,
   "metadata": {},
   "outputs": [
    {
     "data": {
      "image/png": "[encoded data removed]",
      "text/plain": [
       "<Figure size 576x432 with 1 Axes>"
      ]
     },
     "metadata": {
      "needs_background": "light"
     },
     "output_type": "display_data"
    }
   ],
   "source": [
    "\n",
    "\n",
    "user_counts = df.groupby('email').count()['title']\n",
    "fig, ax = plt.subplots(figsize=(8,6))\n",
    "ax.hist(user_counts, bins=50, range=(1,85))\n",
    "ax.set_xticks(np.arange(0,85,5))\n",
    "ax.set_yticks(np.arange(0,2200, 200))\n",
    "ax.set_title('distribution of # interactions (outliers removed)')\n",
    "ax.grid(which='major', axis='y')\n",
    "plt.show();\n",
    "\n"
   ]
  },
  {
   "cell_type": "code",
   "execution_count": 10,
   "metadata": {},
   "outputs": [
    {
     "data": {
      "text/plain": [
       "count    5148.000000\n",
       "mean        8.930847\n",
       "std        16.802267\n",
       "min         1.000000\n",
       "25%         1.000000\n",
       "50%         3.000000\n",
       "75%         9.000000\n",
       "max       364.000000\n",
       "Name: title, dtype: float64"
      ]
     },
     "execution_count": 10,
     "metadata": {},
     "output_type": "execute_result"
    }
   ],
   "source": [
    "user_counts.describe()"
   ]
  },
  {
   "cell_type": "code",
   "execution_count": null,
   "metadata": {},
   "outputs": [],
   "source": [
    "median_val = 3 # 50% of individuals interact with ____ number of articles or fewer.\n",
    "max_views_by_user =  364# The maximum number of user-article interactions by any 1 user is ______."
   ]
  },
  {
   "cell_type": "code",
   "execution_count": 11,
   "metadata": {},
   "outputs": [
    {
     "name": "stdout",
     "output_type": "stream",
     "text": [
      "Unnamed: 0 duplicates: 0\n",
      "doc_body duplicates: 19\n",
      "doc_description duplicates: 33\n",
      "doc_full_name duplicates: 5\n",
      "doc_status duplicates: 1055\n",
      "article_id duplicates: 5\n"
     ]
    }
   ],
   "source": [
    "for col in df1.columns:\n",
    "    print('{} duplicates: {}'.format(col, df1.duplicated(col).sum()))\n",
    "\n"
   ]
  },
  {
   "cell_type": "code",
   "execution_count": 12,
   "metadata": {},
   "outputs": [
    {
     "data": {
      "text/plain": [
       "(1056, 6)"
      ]
     },
     "execution_count": 12,
     "metadata": {},
     "output_type": "execute_result"
    }
   ],
   "source": [
    "df1.shape"
   ]
  },
  {
   "cell_type": "code",
   "execution_count": 13,
   "metadata": {},
   "outputs": [
    {
     "data": {
      "text/plain": [
       "(714,)"
      ]
     },
     "execution_count": 13,
     "metadata": {},
     "output_type": "execute_result"
    }
   ],
   "source": [
    "df.article_id.unique().shape"
   ]
  },
  {
   "cell_type": "code",
   "execution_count": 14,
   "metadata": {},
   "outputs": [
    {
     "data": {
      "text/plain": [
       "(5148,)"
      ]
     },
     "execution_count": 14,
     "metadata": {},
     "output_type": "execute_result"
    }
   ],
   "source": [
    "df.email.dropna().unique().shape"
   ]
  },
  {
   "cell_type": "code",
   "execution_count": 15,
   "metadata": {},
   "outputs": [
    {
     "data": {
      "text/plain": [
       "(45993, 4)"
      ]
     },
     "execution_count": 15,
     "metadata": {},
     "output_type": "execute_result"
    }
   ],
   "source": [
    "df.shape"
   ]
  },
  {
   "cell_type": "code",
   "execution_count": null,
   "metadata": {},
   "outputs": [],
   "source": [
    "\n",
    "\n",
    "unique_articles = 714# The number of unique articles that have at least one interaction\n",
    "total_articles = 1051# The number of unique articles on the IBM platform\n",
    "unique_users = 5148 # The number of unique users\n",
    "user_article_interactions = 45993# The number of user-article interactions\n",
    "\n"
   ]
  },
  {
   "cell_type": "code",
   "execution_count": 16,
   "metadata": {},
   "outputs": [
    {
     "data": {
      "text/plain": [
       "1429.0    937\n",
       "1330.0    927\n",
       "1431.0    671\n",
       "1427.0    643\n",
       "1364.0    627\n",
       "Name: article_id, dtype: int64"
      ]
     },
     "execution_count": 16,
     "metadata": {},
     "output_type": "execute_result"
    }
   ],
   "source": [
    "df.article_id.value_counts().sort_values(ascending=False).head(5)"
   ]
  },
  {
   "cell_type": "code",
   "execution_count": null,
   "metadata": {},
   "outputs": [],
   "source": [
    "\n",
    "\n",
    "most_viewed_article_id = '1429.0'# The most viewed article in the dataset as a string with one value following the decimal \n",
    "maximum_views = 937# The most viewed article in the dataset was viewed how many times?\n",
    "\n"
   ]
  },
  {
   "cell_type": "code",
   "execution_count": 7,
   "metadata": {},
   "outputs": [
    {
     "data": {
      "text/plain": [
       "email\n",
       "0000b6387a0366322d7fbfc6434af145adf7fed1    13\n",
       "001055fc0bb67f71e8fa17002342b256a30254cd     4\n",
       "00148e4911c7e04eeff8def7bbbdaf1c59c2c621     3\n",
       "001a852ecbd6cc12ab77a785efa137b2646505fe     6\n",
       "001fc95b90da5c3cb12c501d201a915e4f093290     2\n",
       "                                            ..\n",
       "ffc6cfa435937ca0df967b44e9178439d04e3537     2\n",
       "ffc96f8fbb35aac4cb0029332b0fc78e7766bb5d     4\n",
       "ffe3d0543c9046d35c2ee3724ea9d774dff98a32    32\n",
       "fff9fc3ec67bd18ed57a34ed1e67410942c4cd81    10\n",
       "fffb93a166547448a0ff0232558118d59395fecd    13\n",
       "Name: article_id, Length: 5148, dtype: int64"
      ]
     },
     "execution_count": 7,
     "metadata": {},
     "output_type": "execute_result"
    }
   ],
   "source": [
    "df.groupby('email')['article_id'].count()\n"
   ]
  },
  {
   "cell_type": "code",
   "execution_count": 7,
   "metadata": {},
   "outputs": [
    {
     "data": {
      "text/plain": [
       "1"
      ]
     },
     "execution_count": 7,
     "metadata": {},
     "output_type": "execute_result"
    }
   ],
   "source": [
    "df.groupby('email')['article_id'].count().min()\n"
   ]
  },
  {
   "cell_type": "code",
   "execution_count": 8,
   "metadata": {},
   "outputs": [
    {
     "data": {
      "text/plain": [
       "364"
      ]
     },
     "execution_count": 8,
     "metadata": {},
     "output_type": "execute_result"
    }
   ],
   "source": [
    "df.groupby('email')['article_id'].count().max()\n"
   ]
  },
  {
   "cell_type": "code",
   "execution_count": 9,
   "metadata": {},
   "outputs": [
    {
     "data": {
      "text/plain": [
       "937"
      ]
     },
     "execution_count": 9,
     "metadata": {},
     "output_type": "execute_result"
    }
   ],
   "source": [
    "import pandas as pd\n",
    "df = pd.read_csv('user-item-interactions.csv')\n",
    "df.groupby('title')['article_id'].count().max()\n"
   ]
  },
  {
   "cell_type": "code",
   "execution_count": 14,
   "metadata": {},
   "outputs": [
    {
     "data": {
      "text/plain": [
       "Text(0.5, 1.0, 'User interaction with articles')"
      ]
     },
     "execution_count": 14,
     "metadata": {},
     "output_type": "execute_result"
    },
    {
     "data": {
      "image/png": "[encoded data removed]",
      "text/plain": [
       "<Figure size 1080x432 with 1 Axes>"
      ]
     },
     "metadata": {
      "needs_background": "light"
     },
     "output_type": "display_data"
    }
   ],
   "source": [
    "import matplotlib.pyplot as plt\n",
    "import pandas as pd\n",
    "\n",
    "df = pd.read_csv('user-item-interactions.csv')\n",
    "inte = df.groupby('email')['article_id'].count()\n",
    "plt.figure(figsize=(15,6))\n",
    "plt.plot(inte)\n",
    "plt.ylabel('Users')\n",
    "plt.xlabel('No of Interaction')\n",
    "plt.title('User interaction with articles')"
   ]
  },
  {
   "cell_type": "code",
   "execution_count": 15,
   "metadata": {},
   "outputs": [
    {
     "data": {
      "text/plain": [
       "45279"
      ]
     },
     "execution_count": 15,
     "metadata": {},
     "output_type": "execute_result"
    }
   ],
   "source": [
    "df.duplicated(['article_id']).sum()\n"
   ]
  },
  {
   "cell_type": "code",
   "execution_count": 11,
   "metadata": {},
   "outputs": [
    {
     "data": {
      "text/plain": [
       "<matplotlib.axes._subplots.AxesSubplot at 0x82df06d08>"
      ]
     },
     "execution_count": 11,
     "metadata": {},
     "output_type": "execute_result"
    },
    {
     "data": {
      "image/png": "[encoded data removed]",
      "text/plain": [
       "<Figure size 432x288 with 1 Axes>"
      ]
     },
     "metadata": {
      "needs_background": "light"
     },
     "output_type": "display_data"
    }
   ],
   "source": [
    "user = df.groupby('email').count()['article_id']\n",
    "user.hist(bins=10)\n"
   ]
  },
  {
   "cell_type": "code",
   "execution_count": 11,
   "metadata": {},
   "outputs": [
    {
     "data": {
      "text/plain": [
       "<matplotlib.axes._subplots.AxesSubplot at 0x76f56d0f88>"
      ]
     },
     "execution_count": 11,
     "metadata": {},
     "output_type": "execute_result"
    },
    {
     "data": {
      "image/png": "[encoded data removed]",
      "text/plain": [
       "<Figure size 432x288 with 1 Axes>"
      ]
     },
     "metadata": {
      "needs_background": "light"
     },
     "output_type": "display_data"
    }
   ],
   "source": [
    "user1= df.groupby('title')['article_id'].count()\n",
    "user1.hist(bins=10)\n"
   ]
  },
  {
   "cell_type": "code",
   "execution_count": 12,
   "metadata": {},
   "outputs": [
    {
     "data": {
      "text/plain": [
       "count    714.000000\n",
       "mean      64.415966\n",
       "std      109.175923\n",
       "min        1.000000\n",
       "25%        8.000000\n",
       "50%       25.000000\n",
       "75%       69.000000\n",
       "max      937.000000\n",
       "Name: article_id, dtype: float64"
      ]
     },
     "execution_count": 12,
     "metadata": {},
     "output_type": "execute_result"
    }
   ],
   "source": [
    "user1.describe()\n"
   ]
  },
  {
   "cell_type": "code",
   "execution_count": 68,
   "metadata": {},
   "outputs": [
    {
     "data": {
      "text/html": [
       "<div>\n",
       "<style scoped>\n",
       "    .dataframe tbody tr th:only-of-type {\n",
       "        vertical-align: middle;\n",
       "    }\n",
       "\n",
       "    .dataframe tbody tr th {\n",
       "        vertical-align: top;\n",
       "    }\n",
       "\n",
       "    .dataframe thead th {\n",
       "        text-align: right;\n",
       "    }\n",
       "</style>\n",
       "<table border=\"1\" class=\"dataframe\">\n",
       "  <thead>\n",
       "    <tr style=\"text-align: right;\">\n",
       "      <th></th>\n",
       "      <th>Unnamed: 0</th>\n",
       "      <th>article_id</th>\n",
       "      <th>title</th>\n",
       "      <th>user_id</th>\n",
       "    </tr>\n",
       "  </thead>\n",
       "  <tbody>\n",
       "    <tr>\n",
       "      <td>0</td>\n",
       "      <td>0</td>\n",
       "      <td>1430.0</td>\n",
       "      <td>using pixiedust for fast, flexible, and easier...</td>\n",
       "      <td>1</td>\n",
       "    </tr>\n",
       "    <tr>\n",
       "      <td>1</td>\n",
       "      <td>1</td>\n",
       "      <td>1314.0</td>\n",
       "      <td>healthcare python streaming application demo</td>\n",
       "      <td>2</td>\n",
       "    </tr>\n",
       "    <tr>\n",
       "      <td>2</td>\n",
       "      <td>2</td>\n",
       "      <td>1429.0</td>\n",
       "      <td>use deep learning for image classification</td>\n",
       "      <td>3</td>\n",
       "    </tr>\n",
       "    <tr>\n",
       "      <td>3</td>\n",
       "      <td>3</td>\n",
       "      <td>1338.0</td>\n",
       "      <td>ml optimization using cognitive assistant</td>\n",
       "      <td>4</td>\n",
       "    </tr>\n",
       "    <tr>\n",
       "      <td>4</td>\n",
       "      <td>4</td>\n",
       "      <td>1276.0</td>\n",
       "      <td>deploy your python model as a restful api</td>\n",
       "      <td>5</td>\n",
       "    </tr>\n",
       "  </tbody>\n",
       "</table>\n",
       "</div>"
      ],
      "text/plain": [
       "   Unnamed: 0  article_id                                              title  \\\n",
       "0           0      1430.0  using pixiedust for fast, flexible, and easier...   \n",
       "1           1      1314.0       healthcare python streaming application demo   \n",
       "2           2      1429.0         use deep learning for image classification   \n",
       "3           3      1338.0          ml optimization using cognitive assistant   \n",
       "4           4      1276.0          deploy your python model as a restful api   \n",
       "\n",
       "   user_id  \n",
       "0        1  \n",
       "1        2  \n",
       "2        3  \n",
       "3        4  \n",
       "4        5  "
      ]
     },
     "execution_count": 68,
     "metadata": {},
     "output_type": "execute_result"
    }
   ],
   "source": [
    "def email_mapper():\n",
    "    coded_dict = dict()\n",
    "    cter = 1\n",
    "    email_encoded1 = []\n",
    "    \n",
    "    for val in df['email']:\n",
    "        if val not in coded_dict:\n",
    "            coded_dict[val] = cter\n",
    "            cter+=1\n",
    "        \n",
    "        email_encoded1.append(coded_dict[val])\n",
    "    return email_encoded1\n",
    "\n",
    "email_encoded1 = email_mapper()\n",
    "del df['email']\n",
    "df['user_id'] = email_encoded1\n",
    "\n",
    "df.head()"
   ]
  },
  {
   "cell_type": "code",
   "execution_count": 21,
   "metadata": {},
   "outputs": [
    {
     "name": "stdout",
     "output_type": "stream",
     "text": [
      "Duplicated article IDs: [ 50 221 398 577 232]\n",
      "Duplicated article names: ['Graph-based machine learning'\n",
      " 'How smart catalogs can turn the big data flood into an ocean of opportunity'\n",
      " 'Using Apache Spark as a parallel processing framework for accessing REST based data services'\n",
      " 'Use the Primary Index'\n",
      " 'Self-service data preparation with IBM Data Refinery']\n"
     ]
    }
   ],
   "source": [
    "is_duplicate = df1.duplicated(subset=['article_id'])\n",
    "duplicated_art_id = df1['article_id'][is_duplicate]\n",
    "duplicated_art_name = df1['doc_full_name'][is_duplicate]\n",
    "print('Duplicated article IDs: {}'.format(duplicated_art_id.values))\n",
    "print('Duplicated article names: {}'.format(duplicated_art_name.values))"
   ]
  },
  {
   "cell_type": "code",
   "execution_count": 22,
   "metadata": {},
   "outputs": [
    {
     "name": "stdout",
     "output_type": "stream",
     "text": [
      "0\n"
     ]
    }
   ],
   "source": [
    "print(df1.duplicated().sum())"
   ]
  },
  {
   "cell_type": "code",
   "execution_count": 23,
   "metadata": {},
   "outputs": [
    {
     "name": "stdout",
     "output_type": "stream",
     "text": [
      "0\n"
     ]
    }
   ],
   "source": [
    "print(df1.duplicated().sum())"
   ]
  },
  {
   "cell_type": "code",
   "execution_count": 24,
   "metadata": {},
   "outputs": [],
   "source": [
    "df1.drop_duplicates(keep = 'first', inplace = True)"
   ]
  },
  {
   "cell_type": "code",
   "execution_count": null,
   "metadata": {},
   "outputs": [],
   "source": [
    "median_val = 3 \n",
    "unique_articles = 714\n",
    "total_articles = 1051\n",
    "unique_users = 5148 \n",
    "user_article_interactions = 45993\n",
    "most_viewed_article_id = '1429.0'\n",
    "maximum_views = 937\n",
    "max_views_by_user =  364\n",
    "sol_1_dict = {\n",
    "    '`50% of individuals have _____ or fewer interactions.`': median_val,\n",
    "    '`The total number of user-article interactions in the dataset is ______.`': user_article_interactions,\n",
    "    '`The maximum number of user-article interactions by any 1 user is ______.`': max_views_by_user,\n",
    "    '`The most viewed article in the dataset was viewed _____ times.`': maximum_views,\n",
    "    '`The article_id of the most viewed article is ______.`': most_viewed_article_id,\n",
    "    '`The number of unique articles that have at least 1 rating ______.`': unique_articles,\n",
    "    '`The number of unique users in the dataset is ______`': unique_users,\n",
    "    '`The number of unique articles on the IBM platform`': total_articles\n",
    "}\n"
   ]
  },
  {
   "cell_type": "code",
   "execution_count": 26,
   "metadata": {},
   "outputs": [],
   "source": [
    "def get_top_most_articles(n, df=df):\n",
    "    '''\n",
    "    INPUT:\n",
    "    n - (int) the number of top articles to return\n",
    "    df - (pandas dataframe) df as defined at the top of the notebook \n",
    "    \n",
    "    OUTPUT:\n",
    "    top_articles - (list) A list of the top 'n' article titles \n",
    "    \n",
    "    '''\n",
    "    top_articles1 = list(df['title'].value_counts().reset_index().head(n)['index'])\n",
    "    \n",
    "    \n",
    "    return top_articles1 # Return the top article titles from df (not df_articles)\n",
    "\n",
    "def get_top_most_article_ids(n, df=df):\n",
    "    '''\n",
    "    INPUT:\n",
    "    n - (int) the number of top articles to return\n",
    "    df - (pandas dataframe) df as defined at the top of the notebook \n",
    "    \n",
    "    OUTPUT:\n",
    "    top_articles_ids - (list) A list of ids of the top 'n' article titles \n",
    "    \n",
    "    '''\n",
    "    top_articles1 = list(df['article_id'].value_counts().reset_index().head(n)['index'])\n",
    "        \n",
    "    return top_articles1  # Return the top article ids"
   ]
  },
  {
   "cell_type": "code",
   "execution_count": 27,
   "metadata": {},
   "outputs": [
    {
     "name": "stdout",
     "output_type": "stream",
     "text": [
      "['use deep learning for image classification', 'insights from new york car accident reports', 'visualize car data with brunel', 'use xgboost, scikit-learn & ibm watson machine learning apis', 'predicting churn with the spss random tree algorithm', 'healthcare python streaming application demo', 'finding optimal locations of new store using decision optimization', 'apache spark lab, part 1: basic concepts', 'analyze energy consumption in buildings', 'gosales transactions for logistic regression model']\n",
      "[1429.0, 1330.0, 1431.0, 1427.0, 1364.0, 1314.0, 1293.0, 1170.0, 1162.0, 1304.0]\n"
     ]
    }
   ],
   "source": [
    "print(get_top_most_articles(10))\n",
    "print(get_top_most_article_ids(10))\n"
   ]
  },
  {
   "cell_type": "code",
   "execution_count": 28,
   "metadata": {},
   "outputs": [
    {
     "name": "stdout",
     "output_type": "stream",
     "text": [
      "['use deep learning for image classification', 'insights from new york car accident reports', 'visualize car data with brunel', 'use xgboost, scikit-learn & ibm watson machine learning apis', 'predicting churn with the spss random tree algorithm']\n",
      "['use deep learning for image classification', 'insights from new york car accident reports', 'visualize car data with brunel', 'use xgboost, scikit-learn & ibm watson machine learning apis', 'predicting churn with the spss random tree algorithm', 'healthcare python streaming application demo', 'finding optimal locations of new store using decision optimization', 'apache spark lab, part 1: basic concepts', 'analyze energy consumption in buildings', 'gosales transactions for logistic regression model', 'welcome to pixiedust', 'customer demographics and sales', 'total population by country', 'deep learning with tensorflow course by big data university', 'model bike sharing data with spss', 'the nurse assignment problem', 'classify tumors with machine learning', 'analyze accident reports on amazon emr spark', 'movie recommender system with spark machine learning', 'putting a human face on machine learning']\n"
     ]
    }
   ],
   "source": [
    "print(get_top_most_articles(5))\n",
    "print(get_top_most_articles(20))\n"
   ]
  },
  {
   "cell_type": "code",
   "execution_count": 35,
   "metadata": {},
   "outputs": [
    {
     "name": "stdout",
     "output_type": "stream",
     "text": [
      "            Unnamed: 0  title  email\n",
      "article_id                          \n",
      "1429.0             937    937    937\n",
      "1330.0             927    927    927\n",
      "1431.0             671    671    671\n",
      "1427.0             643    643    643\n",
      "1364.0             627    627    627\n",
      "1314.0             614    614    614\n",
      "1293.0             572    572    572\n",
      "1170.0             565    565    565\n",
      "1162.0             512    512    512\n",
      "1304.0             483    483    483\n"
     ]
    }
   ],
   "source": [
    "df_top_n1 = df.groupby(['article_id']).count().sort_values(['title'],ascending=False).head(10)\n",
    "print(df_top_n1)\n"
   ]
  },
  {
   "cell_type": "code",
   "execution_count": 37,
   "metadata": {},
   "outputs": [
    {
     "data": {
      "text/html": [
       "<div>\n",
       "<style scoped>\n",
       "    .dataframe tbody tr th:only-of-type {\n",
       "        vertical-align: middle;\n",
       "    }\n",
       "\n",
       "    .dataframe tbody tr th {\n",
       "        vertical-align: top;\n",
       "    }\n",
       "\n",
       "    .dataframe thead th {\n",
       "        text-align: right;\n",
       "    }\n",
       "</style>\n",
       "<table border=\"1\" class=\"dataframe\">\n",
       "  <thead>\n",
       "    <tr style=\"text-align: right;\">\n",
       "      <th>article_id</th>\n",
       "      <th>0.0</th>\n",
       "      <th>2.0</th>\n",
       "      <th>4.0</th>\n",
       "      <th>8.0</th>\n",
       "      <th>9.0</th>\n",
       "      <th>12.0</th>\n",
       "      <th>14.0</th>\n",
       "      <th>15.0</th>\n",
       "      <th>16.0</th>\n",
       "      <th>18.0</th>\n",
       "      <th>...</th>\n",
       "      <th>1434.0</th>\n",
       "      <th>1435.0</th>\n",
       "      <th>1436.0</th>\n",
       "      <th>1437.0</th>\n",
       "      <th>1439.0</th>\n",
       "      <th>1440.0</th>\n",
       "      <th>1441.0</th>\n",
       "      <th>1442.0</th>\n",
       "      <th>1443.0</th>\n",
       "      <th>1444.0</th>\n",
       "    </tr>\n",
       "    <tr>\n",
       "      <th>user_id</th>\n",
       "      <th></th>\n",
       "      <th></th>\n",
       "      <th></th>\n",
       "      <th></th>\n",
       "      <th></th>\n",
       "      <th></th>\n",
       "      <th></th>\n",
       "      <th></th>\n",
       "      <th></th>\n",
       "      <th></th>\n",
       "      <th></th>\n",
       "      <th></th>\n",
       "      <th></th>\n",
       "      <th></th>\n",
       "      <th></th>\n",
       "      <th></th>\n",
       "      <th></th>\n",
       "      <th></th>\n",
       "      <th></th>\n",
       "      <th></th>\n",
       "      <th></th>\n",
       "    </tr>\n",
       "  </thead>\n",
       "  <tbody>\n",
       "    <tr>\n",
       "      <td>1</td>\n",
       "      <td>0.0</td>\n",
       "      <td>0.0</td>\n",
       "      <td>0.0</td>\n",
       "      <td>0.0</td>\n",
       "      <td>0.0</td>\n",
       "      <td>0.0</td>\n",
       "      <td>0.0</td>\n",
       "      <td>0.0</td>\n",
       "      <td>0.0</td>\n",
       "      <td>0.0</td>\n",
       "      <td>...</td>\n",
       "      <td>0.0</td>\n",
       "      <td>0.0</td>\n",
       "      <td>1.0</td>\n",
       "      <td>0.0</td>\n",
       "      <td>1.0</td>\n",
       "      <td>0.0</td>\n",
       "      <td>0.0</td>\n",
       "      <td>0.0</td>\n",
       "      <td>0.0</td>\n",
       "      <td>0.0</td>\n",
       "    </tr>\n",
       "    <tr>\n",
       "      <td>2</td>\n",
       "      <td>0.0</td>\n",
       "      <td>0.0</td>\n",
       "      <td>0.0</td>\n",
       "      <td>0.0</td>\n",
       "      <td>0.0</td>\n",
       "      <td>0.0</td>\n",
       "      <td>0.0</td>\n",
       "      <td>0.0</td>\n",
       "      <td>0.0</td>\n",
       "      <td>0.0</td>\n",
       "      <td>...</td>\n",
       "      <td>0.0</td>\n",
       "      <td>0.0</td>\n",
       "      <td>0.0</td>\n",
       "      <td>0.0</td>\n",
       "      <td>0.0</td>\n",
       "      <td>0.0</td>\n",
       "      <td>0.0</td>\n",
       "      <td>0.0</td>\n",
       "      <td>0.0</td>\n",
       "      <td>0.0</td>\n",
       "    </tr>\n",
       "    <tr>\n",
       "      <td>3</td>\n",
       "      <td>0.0</td>\n",
       "      <td>0.0</td>\n",
       "      <td>0.0</td>\n",
       "      <td>0.0</td>\n",
       "      <td>0.0</td>\n",
       "      <td>1.0</td>\n",
       "      <td>0.0</td>\n",
       "      <td>0.0</td>\n",
       "      <td>0.0</td>\n",
       "      <td>0.0</td>\n",
       "      <td>...</td>\n",
       "      <td>0.0</td>\n",
       "      <td>0.0</td>\n",
       "      <td>1.0</td>\n",
       "      <td>0.0</td>\n",
       "      <td>0.0</td>\n",
       "      <td>0.0</td>\n",
       "      <td>0.0</td>\n",
       "      <td>0.0</td>\n",
       "      <td>0.0</td>\n",
       "      <td>0.0</td>\n",
       "    </tr>\n",
       "    <tr>\n",
       "      <td>4</td>\n",
       "      <td>0.0</td>\n",
       "      <td>0.0</td>\n",
       "      <td>0.0</td>\n",
       "      <td>0.0</td>\n",
       "      <td>0.0</td>\n",
       "      <td>0.0</td>\n",
       "      <td>0.0</td>\n",
       "      <td>0.0</td>\n",
       "      <td>0.0</td>\n",
       "      <td>0.0</td>\n",
       "      <td>...</td>\n",
       "      <td>0.0</td>\n",
       "      <td>0.0</td>\n",
       "      <td>0.0</td>\n",
       "      <td>0.0</td>\n",
       "      <td>0.0</td>\n",
       "      <td>0.0</td>\n",
       "      <td>0.0</td>\n",
       "      <td>0.0</td>\n",
       "      <td>0.0</td>\n",
       "      <td>0.0</td>\n",
       "    </tr>\n",
       "    <tr>\n",
       "      <td>5</td>\n",
       "      <td>0.0</td>\n",
       "      <td>0.0</td>\n",
       "      <td>0.0</td>\n",
       "      <td>0.0</td>\n",
       "      <td>0.0</td>\n",
       "      <td>0.0</td>\n",
       "      <td>0.0</td>\n",
       "      <td>0.0</td>\n",
       "      <td>0.0</td>\n",
       "      <td>0.0</td>\n",
       "      <td>...</td>\n",
       "      <td>0.0</td>\n",
       "      <td>0.0</td>\n",
       "      <td>0.0</td>\n",
       "      <td>0.0</td>\n",
       "      <td>0.0</td>\n",
       "      <td>0.0</td>\n",
       "      <td>0.0</td>\n",
       "      <td>0.0</td>\n",
       "      <td>0.0</td>\n",
       "      <td>0.0</td>\n",
       "    </tr>\n",
       "  </tbody>\n",
       "</table>\n",
       "<p>5 rows × 714 columns</p>\n",
       "</div>"
      ],
      "text/plain": [
       "article_id  0.0     2.0     4.0     8.0     9.0     12.0    14.0    15.0    \\\n",
       "user_id                                                                      \n",
       "1              0.0     0.0     0.0     0.0     0.0     0.0     0.0     0.0   \n",
       "2              0.0     0.0     0.0     0.0     0.0     0.0     0.0     0.0   \n",
       "3              0.0     0.0     0.0     0.0     0.0     1.0     0.0     0.0   \n",
       "4              0.0     0.0     0.0     0.0     0.0     0.0     0.0     0.0   \n",
       "5              0.0     0.0     0.0     0.0     0.0     0.0     0.0     0.0   \n",
       "\n",
       "article_id  16.0    18.0    ...  1434.0  1435.0  1436.0  1437.0  1439.0  \\\n",
       "user_id                     ...                                           \n",
       "1              0.0     0.0  ...     0.0     0.0     1.0     0.0     1.0   \n",
       "2              0.0     0.0  ...     0.0     0.0     0.0     0.0     0.0   \n",
       "3              0.0     0.0  ...     0.0     0.0     1.0     0.0     0.0   \n",
       "4              0.0     0.0  ...     0.0     0.0     0.0     0.0     0.0   \n",
       "5              0.0     0.0  ...     0.0     0.0     0.0     0.0     0.0   \n",
       "\n",
       "article_id  1440.0  1441.0  1442.0  1443.0  1444.0  \n",
       "user_id                                             \n",
       "1              0.0     0.0     0.0     0.0     0.0  \n",
       "2              0.0     0.0     0.0     0.0     0.0  \n",
       "3              0.0     0.0     0.0     0.0     0.0  \n",
       "4              0.0     0.0     0.0     0.0     0.0  \n",
       "5              0.0     0.0     0.0     0.0     0.0  \n",
       "\n",
       "[5 rows x 714 columns]"
      ]
     },
     "execution_count": 37,
     "metadata": {},
     "output_type": "execute_result"
    }
   ],
   "source": [
    "def create_user_item_matrix(df):\n",
    "    '''\n",
    "    INPUT:\n",
    "    df - pandas dataframe with article_id, title, user_id columns\n",
    "    \n",
    "    OUTPUT:\n",
    "    user_item - user item matrix \n",
    "    \n",
    "    Description:\n",
    "    Return a matrix with user ids as rows and article ids on the columns with 1 values where a user interacted with \n",
    "    an article and a 0 otherwise\n",
    "    '''\n",
    "    user_item1 = df.groupby(['user_id', 'article_id'])['article_id'].count().unstack()\n",
    "    user_item1 = user_item1.fillna(0)\n",
    "    for col in user_item1.columns.values:\n",
    "        user_item1[col] = user_item1[col].apply(lambda x: x if x == 0 else 1)\n",
    "    return user_item1 \n",
    "\n",
    "user_item1 = create_user_item_matrix(df)\n",
    "user_item1.head()\n"
   ]
  },
  {
   "cell_type": "code",
   "execution_count": 38,
   "metadata": {},
   "outputs": [
    {
     "name": "stdout",
     "output_type": "stream",
     "text": [
      "You have passed our quick tests!  Please proceed!\n"
     ]
    }
   ],
   "source": [
    "assert user_item1.shape[0] == 5149\n",
    "assert user_item1.shape[1] == 714 \n",
    "assert user_item1.sum(axis=1)[1] == 36 \n",
    "print(\"You have passed our quick tests!  Please proceed!\")\n",
    "\n"
   ]
  },
  {
   "cell_type": "code",
   "execution_count": 39,
   "metadata": {},
   "outputs": [],
   "source": [
    "def finding_similar_users(user_id, user_item1= user_item1):\n",
    "    '''\n",
    "    INPUT:\n",
    "    user_id - (int) a user_id\n",
    "    user_item1 - (pandas dataframe) matrix of users by articles: \n",
    "                1's when a user has interacted with an article, 0 otherwise\n",
    "    \n",
    "    OUTPUT:\n",
    "    similar_users - (list) an ordered list where the closest users (largest dot product users)\n",
    "                    are listed first\n",
    "    \n",
    "    Description:\n",
    "    Computes the similarity of every pair of users based on the dot product\n",
    "    Returns an ordered\n",
    "    \n",
    "    '''\n",
    "    # compute similarity of each user to the provided user\n",
    "    similarity1 = user_item1.dot(user_item1.loc[user_id])\n",
    "    # sort by similarity\n",
    "    similarity1 = similarity1.sort_values(ascending=False)\n",
    "    # remove the own user's id\n",
    "    similarity1.drop(user_id, inplace=True)\n",
    "    # create list of just the ids\n",
    "    most_similar_users = list(similarity1.index)\n",
    "       \n",
    "    return most_similar_users\n",
    "\n",
    "\n",
    "\n"
   ]
  },
  {
   "cell_type": "code",
   "execution_count": 26,
   "metadata": {},
   "outputs": [
    {
     "name": "stdout",
     "output_type": "stream",
     "text": [
      "The 10 most similar users to user 1 are: [3933, 23, 3782, 203, 4459, 131, 3870, 46, 4201, 5041]\n",
      "The 5 most similar users to user 3933 are: [1, 23, 3782, 4459, 203]\n",
      "The 3 most similar users to user 46 are: [4201, 23, 3782]\n"
     ]
    }
   ],
   "source": [
    "print(\"The 10 most similar users to user 1 are: {}\".format(finding_similar_users(1)[:10]))\n",
    "print(\"The 5 most similar users to user 3933 are: {}\".format(finding_similar_users(3933)[:5]))\n",
    "print(\"The 3 most similar users to user 46 are: {}\".format(finding_similar_users(46)[:3]))"
   ]
  },
  {
   "cell_type": "code",
   "execution_count": 40,
   "metadata": {},
   "outputs": [
    {
     "data": {
      "text/plain": [
       "(array([ 22,  54,  76, 123, 138, 147, 152, 178, 222, 235, 253, 267, 285,\n",
       "        315, 329, 374, 401, 408, 438, 526, 538, 540, 566, 600, 609, 651,\n",
       "        656, 665, 672, 678, 697, 699, 700, 701, 706, 708], dtype=int64),)"
      ]
     },
     "execution_count": 40,
     "metadata": {},
     "output_type": "execute_result"
    }
   ],
   "source": [
    "np.where(user_item1.loc[1]==1)"
   ]
  },
  {
   "cell_type": "code",
   "execution_count": 43,
   "metadata": {},
   "outputs": [],
   "source": [
    "arti= df.drop_duplicates('article_id')[['article_id', 'title']]"
   ]
  },
  {
   "cell_type": "code",
   "execution_count": 44,
   "metadata": {},
   "outputs": [],
   "source": [
    "art_id =[111.0, 1427.0]"
   ]
  },
  {
   "cell_type": "code",
   "execution_count": 45,
   "metadata": {},
   "outputs": [
    {
     "data": {
      "text/plain": [
       "['tidy up your jupyter notebooks with scripts',\n",
       " 'use xgboost, scikit-learn & ibm watson machine learning apis']"
      ]
     },
     "execution_count": 45,
     "metadata": {},
     "output_type": "execute_result"
    }
   ],
   "source": [
    "\n",
    "\n",
    "articles = arti[arti.article_id.isin(art_id)]\n",
    "\n",
    "[articles[articles.article_id==i]['title'].values[0] for i in art_id]\n",
    "\n"
   ]
  },
  {
   "cell_type": "code",
   "execution_count": 72,
   "metadata": {},
   "outputs": [],
   "source": [
    "\n",
    "\n",
    "\n",
    "\n",
    "def get_article_names(article_ids1, df=df):\n",
    "    '''\n",
    "    INPUT:\n",
    "    article_ids1 - (list) a list of article ids\n",
    "    df - (pandas dataframe) df as defined at the top of the notebook\n",
    "    \n",
    "    OUTPUT:\n",
    "    article_names1 - (list) a list of article names associated with the list of article ids \n",
    "                    (this is identified by the title column)\n",
    "    '''\n",
    "    \n",
    "    all_article_names1 = df[df['article_id'].isin(article_ids1)]['title'].drop_duplicates().values.tolist()\n",
    "    return all_article_names1 \n",
    "def get_user_articles(user_id, user_item1=user_item1):\n",
    "    '''\n",
    "    INPUT:\n",
    "    user_id- (int) a user id\n",
    "    user_item1 - (pandas dataframe) matrix of users by articles: \n",
    "                1's when a user has interacted with an article, 0 otherwise\n",
    "    \n",
    "    OUTPUT:\n",
    "    article_ids1 - (list) a list of the article ids seen by the user\n",
    "    article_names1 - (list) a list of article names associated with the list of article ids \n",
    "                    (this is identified by the doc_full_name column in df_content)\n",
    "    \n",
    "    Description:\n",
    "    Provides a list of the article_ids and article titles that have been seen by a user\n",
    "    '''\n",
    "    \n",
    "    user_id = int(float(user_id))\n",
    "    article_ids1 = list(user_item1.columns[np.where(user_item1.loc[user_id]==1)])\n",
    "    \n",
    "    article_names1 = get_article_names(article_ids1)\n",
    "    return [str(a_id) for a_id in article_ids1], article_names1 \n",
    "\n",
    "\n",
    "def user_user_recs(user_id, m=10):\n",
    "    '''\n",
    "    INPUT:\n",
    "    user_id - (int) a user id\n",
    "    m - (int) the number of recommendations you want for the user\n",
    "    \n",
    "    OUTPUT:\n",
    "    recs - (list) a list of recommendations for the user\n",
    "    \n",
    "    Description:\n",
    "    Loops through the users based on closeness to the input user_id\n",
    "    For each user - finds articles the user hasn't seen before and provides them as recs\n",
    "    Does this until m recommendations are found\n",
    "    \n",
    "    Notes:\n",
    "    Users who are the same closeness are chosen arbitrarily as the 'next' user\n",
    "    \n",
    "    For the user where the number of recommended articles starts below m \n",
    "    and ends exceeding m, the last items are chosen arbitrarily\n",
    "    \n",
    "    '''\n",
    "\n",
    "    recs = []\n",
    "    viewed1 = get_user_articles(100)\n",
    "    similar_user_id = finding_similar_users(100)\n",
    "    for user_id1 in similar_user_id:\n",
    "        article_ids1, article_names1 = get_user_articles(user_id)\n",
    "        recs = list(set().union(recs, article_ids1)) \n",
    "        if len(recs) >= 10:\n",
    "            break\n",
    "    return recs[:m]"
   ]
  },
  {
   "cell_type": "code",
   "execution_count": 73,
   "metadata": {},
   "outputs": [
    {
     "data": {
      "text/plain": [
       "['use deep learning for image classification',\n",
       " 'gosales transactions for naive bayes model',\n",
       " 'time series prediction using recurrent neural networks (lstms)',\n",
       " 'finding optimal locations of new store using decision optimization',\n",
       " 'deep learning with tensorflow course by big data university',\n",
       " 'shiny: a data scientist’s best friend',\n",
       " 'new shiny cheat sheet and video tutorial',\n",
       " 'introduction to market basket analysis in\\xa0python',\n",
       " 'fighting gerrymandering: using data science to draw fairer congressional districts',\n",
       " 'working with ibm cloud object storage in python']"
      ]
     },
     "execution_count": 73,
     "metadata": {},
     "output_type": "execute_result"
    }
   ],
   "source": [
    "get_article_names(user_user_recs(1, 10)) "
   ]
  },
  {
   "cell_type": "code",
   "execution_count": 33,
   "metadata": {},
   "outputs": [
    {
     "name": "stdout",
     "output_type": "stream",
     "text": [
      "If this is all you see, you passed all of our tests!  Nice job!\n"
     ]
    }
   ],
   "source": [
    "assert set(get_article_names(['1024.0', '1176.0', '1305.0', '1314.0', '1422.0', '1427.0'])) == set(['using deep learning to reconstruct high-resolution audio', 'build a python app on the streaming analytics service', 'gosales transactions for naive bayes model', 'healthcare python streaming application demo', 'use r dataframes & ibm watson natural language understanding', 'use xgboost, scikit-learn & ibm watson machine learning apis']), \"Oops! Your the get_article_names function doesn't work quite how we expect.\"\n",
    "assert set(get_article_names(['1320.0', '232.0', '844.0'])) == set(['housing (2015): united states demographic measures','self-service data preparation with ibm data refinery','use the cloudant-spark connector in python notebook']), \"Oops! Your the get_article_names function doesn't work quite how we expect.\"\n",
    "assert set(get_user_articles(20)[0]) == set(['1320.0', '232.0', '844.0'])\n",
    "assert set(get_user_articles(20)[1]) == set(['housing (2015): united states demographic measures', 'self-service data preparation with ibm data refinery','use the cloudant-spark connector in python notebook'])\n",
    "assert set(get_user_articles(2)[0]) == set(['1024.0', '1176.0', '1305.0', '1314.0', '1422.0', '1427.0'])\n",
    "assert set(get_user_articles(2)[1]) == set(['using deep learning to reconstruct high-resolution audio', 'build a python app on the streaming analytics service', 'gosales transactions for naive bayes model', 'healthcare python streaming application demo', 'use r dataframes & ibm watson natural language understanding', 'use xgboost, scikit-learn & ibm watson machine learning apis'])\n",
    "print(\"If this is all you see, you passed all of our tests!  Nice job!\")"
   ]
  },
  {
   "cell_type": "code",
   "execution_count": 106,
   "metadata": {},
   "outputs": [],
   "source": [
    "\n",
    "\n",
    "def get_top_sorted_users1(user_id, df=df, user_item1=user_item1):\n",
    "    '''\n",
    "    INPUT:\n",
    "    user_id - (int)\n",
    "    df - (pandas dataframe) df as defined at the top of the notebook \n",
    "    user_item1 - (pandas dataframe) matrix of users by articles: \n",
    "            1's when a user has interacted with an article, 0 otherwise\n",
    "    \n",
    "            \n",
    "    OUTPUT:\n",
    "    neighbors_df1 - (pandas dataframe) a dataframe with:\n",
    "                    neighbor_id1 - is a neighbor user_id\n",
    "                    similarity1 - measure of the similarity of each user to the provided user_id\n",
    "                    num_interactions1 - the number of articles viewed by the user - if a u\n",
    "                    \n",
    "    Other Details - sort the neighbors_df by the similarity and then by number of interactions where \n",
    "                    highest of each is higher in the dataframe\n",
    "     \n",
    "    '''\n",
    "    \n",
    "    similarity1 = user_item1.dot(user_item1.loc[user_id])\n",
    "    \n",
    "    \n",
    "    similarity1= similarity1.sort_values(ascending=False).drop(user_id).to_frame(name='similarity1').reset_index()\n",
    "\n",
    "    \n",
    "    num_interactions1 = df.user_id.value_counts().to_frame('num_interactions1')\n",
    "    \n",
    "    \n",
    "    neighbors_df1 = similarity1.merge(num_interactions1, left_on='user_id', \n",
    "                        right_index=True).rename(columns={'user_id':'neighbor_id1'})\n",
    "\n",
    "    neighbors_df1.sort_values(by=['similarity1', 'num_interactions1'], ascending=False, inplace=True)\n",
    "    return neighbors_df1 \n",
    "\n",
    "\n",
    "def user_user_recs_part(user_id, m=10):\n",
    "    '''\n",
    "    INPUT:\n",
    "    user_id - (int) a user id\n",
    "    m - (int) the number of recommendations you want for the user\n",
    "    \n",
    "    OUTPUT:\n",
    "    recs - (list) a list of recommendations for the user by article id\n",
    "    rec_names - (list) a list of recommendations for the user by article title\n",
    "    \n",
    "    Description:\n",
    "    Loops through the users based on closeness to the input user_id1\n",
    "    For each user - finds articles the user hasn't seen before and provides them as recs\n",
    "    Does this until m recommendations are found\n",
    "    \n",
    "    Notes:\n",
    "    * Choose the users that have the most total article interactions \n",
    "    before choosing those with fewer article interactions.\n",
    "\n",
    "    * Choose articles with the articles with the most total interactions \n",
    "    before choosing those with fewer total interactions. \n",
    "   \n",
    "    '''\n",
    "    try:\n",
    "        \n",
    "        user_article_ids, _ = get_user_articles(user_id)\n",
    "    except KeyError:\n",
    "        recs = get_top_article_ids(m)\n",
    "        return recs, get_article_names(recs)\n",
    "    neighbours = get_top_sorted_users(user_id).neighbor_id.values\n",
    "    \n",
    "    all_articles_sorted = get_top_article_ids(300)\n",
    "    \n",
    "    recs1 = []\n",
    "    \n",
    "    for user in neighbours:\n",
    "        neighbour_article_ids, _ = get_user_articles(user)\n",
    "        not_seen1 = list(set(neighbour_article_ids)-(set(user_article_ids)&set(neighbour_article_ids)))\n",
    "        \n",
    "        \n",
    "        not_seen_sorted = list(set(all_articles_sorted) &set(not_seen1))\n",
    "        \n",
    "        recs1.extend(not_seen1)\n",
    "        if(len(recs1)>=m):\n",
    "            recs1 = recs1[:m]\n",
    "            break; \n",
    "    \n",
    "    return recs1, get_article_names(recs1)\n",
    "\n"
   ]
  },
  {
   "cell_type": "code",
   "execution_count": 107,
   "metadata": {},
   "outputs": [
    {
     "data": {
      "text/html": [
       "<div>\n",
       "<style scoped>\n",
       "    .dataframe tbody tr th:only-of-type {\n",
       "        vertical-align: middle;\n",
       "    }\n",
       "\n",
       "    .dataframe tbody tr th {\n",
       "        vertical-align: top;\n",
       "    }\n",
       "\n",
       "    .dataframe thead th {\n",
       "        text-align: right;\n",
       "    }\n",
       "</style>\n",
       "<table border=\"1\" class=\"dataframe\">\n",
       "  <thead>\n",
       "    <tr style=\"text-align: right;\">\n",
       "      <th></th>\n",
       "      <th>neighbor_id1</th>\n",
       "      <th>similarity1</th>\n",
       "      <th>num_interactions1</th>\n",
       "    </tr>\n",
       "  </thead>\n",
       "  <tbody>\n",
       "    <tr>\n",
       "      <td>0</td>\n",
       "      <td>3933</td>\n",
       "      <td>35.0</td>\n",
       "      <td>45</td>\n",
       "    </tr>\n",
       "    <tr>\n",
       "      <td>1</td>\n",
       "      <td>23</td>\n",
       "      <td>17.0</td>\n",
       "      <td>364</td>\n",
       "    </tr>\n",
       "    <tr>\n",
       "      <td>2</td>\n",
       "      <td>3782</td>\n",
       "      <td>17.0</td>\n",
       "      <td>363</td>\n",
       "    </tr>\n",
       "    <tr>\n",
       "      <td>3</td>\n",
       "      <td>203</td>\n",
       "      <td>15.0</td>\n",
       "      <td>160</td>\n",
       "    </tr>\n",
       "    <tr>\n",
       "      <td>4</td>\n",
       "      <td>4459</td>\n",
       "      <td>15.0</td>\n",
       "      <td>158</td>\n",
       "    </tr>\n",
       "  </tbody>\n",
       "</table>\n",
       "</div>"
      ],
      "text/plain": [
       "   neighbor_id1  similarity1  num_interactions1\n",
       "0          3933         35.0                 45\n",
       "1            23         17.0                364\n",
       "2          3782         17.0                363\n",
       "3           203         15.0                160\n",
       "4          4459         15.0                158"
      ]
     },
     "execution_count": 107,
     "metadata": {},
     "output_type": "execute_result"
    }
   ],
   "source": [
    "get_top_sorted_users1(1).head(5)"
   ]
  },
  {
   "cell_type": "code",
   "execution_count": 108,
   "metadata": {},
   "outputs": [
    {
     "name": "stdout",
     "output_type": "stream",
     "text": [
      "The top 10 recommendations for user 20 are the following article ids:\n",
      "['125.0', '1351.0', '302.0', '1444.0', '1329.0', '142.0', '1160.0', '1152.0', '205.0', '555.0']\n",
      "\n",
      "The top 10 recommendations for user 20 are the following article names:\n",
      "['model bike sharing data with spss', 'analyze accident reports on amazon emr spark', 'accelerate your workflow with dsx', \"a beginner's guide to variational methods\", 'neural networks for beginners: popular types and applications', 'airbnb data for analytics: venice reviews', 'worldwide fuel oil consumption by household (in 1000 metric tons)', 'statistics for hackers', 'ingest data from message hub in a streams flow', 'build a naive-bayes model with wml & dsx']\n"
     ]
    }
   ],
   "source": [
    "rec_ids, rec_names = user_user_recs_part(20, 10)\n",
    "print(\"The top 10 recommendations for user 20 are the following article ids:\")\n",
    "print(rec_ids)\n",
    "print()\n",
    "print(\"The top 10 recommendations for user 20 are the following article names:\")\n",
    "print(rec_names)"
   ]
  },
  {
   "cell_type": "code",
   "execution_count": 85,
   "metadata": {},
   "outputs": [],
   "source": [
    "user1_most_sim = 3933 \n",
    "user131_10th_sim = 242"
   ]
  },
  {
   "cell_type": "code",
   "execution_count": 87,
   "metadata": {},
   "outputs": [],
   "source": [
    "sol_5_dict = {\n",
    "    'The user that is most similar to user 1.': user1_most_sim, \n",
    "    'The user that is the 10th most similar to user 131': user131_10th_sim,\n",
    "}\n"
   ]
  },
  {
   "cell_type": "code",
   "execution_count": 88,
   "metadata": {},
   "outputs": [],
   "source": [
    "\n",
    "\n",
    "new_user = '0.0'\n",
    "\n",
    "new_user_recs, new_user_recs_names = user_user_recs_part2('0.0', 10)\n",
    "\n"
   ]
  },
  {
   "cell_type": "code",
   "execution_count": 83,
   "metadata": {},
   "outputs": [
    {
     "name": "stdout",
     "output_type": "stream",
     "text": [
      "That's right!  Nice job!\n"
     ]
    }
   ],
   "source": [
    "\n",
    "\n",
    "assert set(new_user_recs) == set(['1314.0','1429.0','1293.0','1427.0','1162.0','1364.0','1304.0','1170.0','1431.0','1330.0']), \"Oops!  It makes sense that in this case we would want to recommend the most popular articles, because we don't know anything about these users.\"\n",
    "\n",
    "print(\"That's right!  Nice job!\")\n",
    "\n"
   ]
  },
  {
   "cell_type": "code",
   "execution_count": 46,
   "metadata": {},
   "outputs": [],
   "source": [
    "\n",
    "\n",
    "def get_top_articles(n, df=df):\n",
    "    '''\n",
    "    INPUT:\n",
    "    n - (int) the number of top articles to return\n",
    "    df - (pandas dataframe) df as defined at the top of the notebook \n",
    "    \n",
    "    OUTPUT:\n",
    "    top_articles - (list) A list of the top 'n' article titles \n",
    "    \n",
    "    '''\n",
    "    ids1 = df.article_id.value_counts().sort_values(ascending=False).head(n).index\n",
    "    top_articles1 = df.loc[~df.article_id.duplicated() & df.article_id.isin(ids1)].title.values\n",
    "\n",
    "    return top_articles1 \n",
    "\n",
    "def get_top_article_ids(n, df=df):\n",
    "    '''\n",
    "    INPUT:\n",
    "    n - (int) the number of top articles to return\n",
    "    df - (pandas dataframe) df as defined at the top of the notebook \n",
    "    \n",
    "    OUTPUT:\n",
    "    top_articles (str)- (list) A list of the top 'n' article ids\n",
    "    \n",
    "    '''\n",
    "    top_articles = list(map(str, df.article_id.value_counts().sort_values(ascending=False).head(n).index))\n",
    "    return top_articles \n",
    "\n"
   ]
  },
  {
   "cell_type": "code",
   "execution_count": 47,
   "metadata": {},
   "outputs": [
    {
     "name": "stdout",
     "output_type": "stream",
     "text": [
      "['healthcare python streaming application demo'\n",
      " 'use deep learning for image classification'\n",
      " 'apache spark lab, part 1: basic concepts'\n",
      " 'predicting churn with the spss random tree algorithm'\n",
      " 'analyze energy consumption in buildings'\n",
      " 'visualize car data with brunel'\n",
      " 'use xgboost, scikit-learn & ibm watson machine learning apis'\n",
      " 'gosales transactions for logistic regression model'\n",
      " 'insights from new york car accident reports'\n",
      " 'finding optimal locations of new store using decision optimization']\n",
      "['1429.0', '1330.0', '1431.0', '1427.0', '1364.0', '1314.0', '1293.0', '1170.0', '1162.0', '1304.0']\n"
     ]
    }
   ],
   "source": [
    "\n",
    "\n",
    "print(get_top_articles(10))\n",
    "print(get_top_article_ids(10))\n",
    "\n"
   ]
  },
  {
   "cell_type": "code",
   "execution_count": 36,
   "metadata": {},
   "outputs": [
    {
     "name": "stderr",
     "output_type": "stream",
     "text": [
      "[nltk_data] Downloading package punkt to\n",
      "[nltk_data]     C:\\Users\\koustubhapriya\\AppData\\Roaming\\nltk_data...\n",
      "[nltk_data]   Package punkt is already up-to-date!\n",
      "[nltk_data] Downloading package wordnet to\n",
      "[nltk_data]     C:\\Users\\koustubhapriya\\AppData\\Roaming\\nltk_data...\n",
      "[nltk_data]   Package wordnet is already up-to-date!\n",
      "[nltk_data] Downloading package stopwords to\n",
      "[nltk_data]     C:\\Users\\koustubhapriya\\AppData\\Roaming\\nltk_data...\n",
      "[nltk_data]   Package stopwords is already up-to-date!\n",
      "[nltk_data] Downloading package abc to\n",
      "[nltk_data]     C:\\Users\\koustubhapriya\\AppData\\Roaming\\nltk_data...\n",
      "[nltk_data]   Package abc is already up-to-date!\n"
     ]
    }
   ],
   "source": [
    "import nltk\n",
    "nltk.download('punkt')\n",
    "nltk.download('wordnet')\n",
    "nltk.download('stopwords')\n",
    "nltk.download('abc')\n",
    "from nltk.tokenize import word_tokenize\n",
    "from nltk.stem import WordNetLemmatizer\n",
    "from nltk.corpus import stopwords"
   ]
  },
  {
   "cell_type": "code",
   "execution_count": 40,
   "metadata": {},
   "outputs": [],
   "source": [
    "\n",
    "\n",
    "def tokenize(x):\n",
    "    '''\n",
    "    Tokenize any string into seperate words. \n",
    "    Use lemmatizer to break words down into core forms, and then keep only words with meaning\n",
    "\n",
    "    Inputs\n",
    "    x (str) - string to break down\n",
    "\n",
    "    Outputs\n",
    "    filtered (array, str) - words that are special to the string\n",
    "    '''\n",
    "    stop_words1 = (set(stopwords1.words('english')) | set(nltk.corpus.abc.words()))\n",
    "    tokens1 = word_tokenize(x) \n",
    "    lemmatizer1 = WordNetLemmatizer()\n",
    "    clean_tokens1=[]\n",
    "    for token in tokens1:\n",
    "    \n",
    "        clean_token1 = lemmatizer.lemmatize(token).lower().strip()\n",
    "        clean_tokens1.append(clean_token1)\n",
    "        \n",
    "    filtered1 = [word for word in clean_tokens1 if word not in stop_words1 and word.isalpha()]\n",
    "    return filtered1\n",
    "\n",
    "\n"
   ]
  },
  {
   "cell_type": "code",
   "execution_count": 41,
   "metadata": {},
   "outputs": [],
   "source": [
    "def make_content_recs(data_id1, user_id1=True, m=10, df=df):\n",
    "    '''\n",
    "    INPUT:\n",
    "        data_id1 (str) - id of either user or article\n",
    "        user_id1 (bool) - if true, make recs based on user\n",
    "        m (int) - number of recommendations to give based on term\n",
    "    OUTPUT:\n",
    "        recs (list) - list of article ids that are recommended\n",
    "        rec_names (list) - list of article names that are recommended\n",
    "        \n",
    "    Description:\n",
    "       This content based recommender looks at the articles the user has interacted with.\n",
    "       It goes through each article title and using he NLTK library, finds the most common words\n",
    "       (related to content) throughout all the articles.\n",
    "              \n",
    "       Based on these most common words, the recommender looks at the sums of words in\n",
    "       the title of each article, and based on the number of matches as well as the\n",
    "       general popularity of the article it gives back the best recommendations.\n",
    "    '''\n",
    "    if(user_id1):\n",
    "        user_id1 = data_id1\n",
    "        try:\n",
    "            #get already read articles\n",
    "            article_ids1, _ = get_user_articles(user_id1)\n",
    "        except KeyError: #user does not exist\n",
    "            print('User Doesnt Exist, Recommending Top Articles')\n",
    "            recs = get_top_article_ids(m)\n",
    "            return recs, get_article_names(recs)\n",
    "    \n",
    "    else:\n",
    "        article_ids1 = data_id1\n",
    "        \n",
    "    title_data1 = df.drop_duplicates(subset='article_id') #drop duplicates \n",
    "    titles1 = title_data[title_data.article_id.isin(list(map(float, article_ids1)))].title\n",
    "    \n",
    "    title_words1=[]\n",
    "    tokenized1 = tokenize(titles.str.cat(sep=' '))\n",
    "    title_words1.extend(tokenized1)\n",
    "    \n",
    "    common_words1 = pd.value_counts(title_words1).sort_values(ascending=False)[:10].index\n",
    "\n",
    "    top_matches1={}\n",
    "    for word in common_words1:\n",
    "        word_count1 = pd.Series(title_data1.title.str.count(word).fillna(0)) #gets occurences of each word in title\n",
    "        top_matches1[word] = word_count1\n",
    "                    \n",
    "    top_matches1 = pd.DataFrame(top_matches1) # num_cols== num of most common words\n",
    "    top_matches1['top_matches'] = top_matches1.sum(axis=1)\n",
    "    top_matches1['article_id'] = title_data1.article_id.astype(float)\n",
    "    \n",
    "    \n",
    "    article_occurences1 = pd.DataFrame({'occurences':df.article_id.value_counts()})\n",
    "\n",
    "    top_matches1 = top_matches.merge(article_occurences, left_on='article_id', right_index=True)\n",
    "    top_matches1.sort_values(['top_matches1', 'occurences'], ascending=False, inplace=True)    \n",
    "    \n",
    "    recs_df = top_matches1[~top_matches1.article_id.isin(list(map(float, article_ids1)))]\n",
    "    \n",
    "    recs = recs_df.article_id[:m].values.astype(str)\n",
    "    rec_names = get_article_names(recs)\n",
    "    \n",
    "    return recs, rec_names\n",
    "\n"
   ]
  },
  {
   "cell_type": "code",
   "execution_count": 43,
   "metadata": {},
   "outputs": [
    {
     "name": "stdout",
     "output_type": "stream",
     "text": [
      "User Doesnt Exist, Recommending Top Articles\n"
     ]
    },
    {
     "data": {
      "text/plain": [
       "(['1429.0',\n",
       "  '1330.0',\n",
       "  '1431.0',\n",
       "  '1427.0',\n",
       "  '1364.0',\n",
       "  '1314.0',\n",
       "  '1293.0',\n",
       "  '1170.0',\n",
       "  '1162.0',\n",
       "  '1304.0'],\n",
       " ['healthcare python streaming application demo',\n",
       "  'use deep learning for image classification',\n",
       "  'apache spark lab, part 1: basic concepts',\n",
       "  'predicting churn with the spss random tree algorithm',\n",
       "  'analyze energy consumption in buildings',\n",
       "  'visualize car data with brunel',\n",
       "  'use xgboost, scikit-learn & ibm watson machine learning apis',\n",
       "  'gosales transactions for logistic regression model',\n",
       "  'insights from new york car accident reports',\n",
       "  'finding optimal locations of new store using decision optimization'])"
      ]
     },
     "execution_count": 43,
     "metadata": {},
     "output_type": "execute_result"
    }
   ],
   "source": [
    "make_content_recs('0.0', user_id1=True)"
   ]
  },
  {
   "cell_type": "code",
   "execution_count": 44,
   "metadata": {},
   "outputs": [
    {
     "name": "stdout",
     "output_type": "stream",
     "text": [
      "(5149, 714)\n",
      "(714,)\n",
      "(714, 714)\n"
     ]
    }
   ],
   "source": [
    "\n",
    "\n",
    "user_item1.head()\n",
    "\n",
    "\n",
    "u, s, vt = np.linalg.svd(user_item1, full_matrices=False, compute_uv=True)\n",
    "print(u.shape)\n",
    "print(s.shape)\n",
    "print(vt.shape)\n",
    "\n"
   ]
  },
  {
   "cell_type": "code",
   "execution_count": 49,
   "metadata": {},
   "outputs": [
    {
     "data": {
      "image/png": "[encoded data removed]",
      "text/plain": [
       "<Figure size 432x288 with 1 Axes>"
      ]
     },
     "metadata": {
      "needs_background": "light"
     },
     "output_type": "display_data"
    }
   ],
   "source": [
    "\n",
    "\n",
    "num_latent_feats1 = np.arange(10,700+10,20)\n",
    "sum_errs1 = []\n",
    "\n",
    "for k in num_latent_feats1:\n",
    "    s_new, u_new, vt_new = np.diag(s[:k]), u[:, :k], vt[:k, :]\n",
    "    \n",
    "    user_item_est1 = np.around(np.dot(np.dot(u_new, s_new), vt_new))\n",
    "    \n",
    "    diffs1 = np.subtract(user_item1, user_item_est1)\n",
    "    \n",
    "    err1 = np.sum(np.sum(np.abs(diffs1)))\n",
    "    sum_errs1.append(err1)\n",
    "    \n",
    "    \n",
    "plt.plot(num_latent_feats1, 1 - np.array(sum_errs1)/df.shape[0]);\n",
    "plt.xlabel('Number of Latent Features');\n",
    "plt.ylabel('Accuracy');\n",
    "plt.title('Accuracy vs. Number of Latent Features');\n",
    "\n"
   ]
  },
  {
   "cell_type": "code",
   "execution_count": 52,
   "metadata": {},
   "outputs": [],
   "source": [
    "\n",
    "\n",
    "df_train1 = df.head(40000)\n",
    "df_test1 = df.tail(5993)\n",
    "\n",
    "def create_test_and_train_user_item(df_train1, df_test1):\n",
    "    '''\n",
    "    INPUT:\n",
    "    df_train1 - training dataframe\n",
    "    df_test1 - test dataframe\n",
    "    \n",
    "    OUTPUT:\n",
    "    user_item_train1 - a user-item matrix of the training dataframe \n",
    "                      (unique users for each row and unique articles for each column)\n",
    "    user_item_test1 - a user-item matrix of the testing dataframe \n",
    "                    (unique users for each row and unique articles for each column)\n",
    "    test_idx1 - all of the test user ids\n",
    "    test_arts1 - all of the test article ids\n",
    "    \n",
    "    '''\n",
    "    user_item_train1 = create_user_item_matrix(df_train1)\n",
    "    user_item_test1 = create_user_item_matrix(df_test1)\n",
    "    \n",
    "    test_idx1 = list(user_item_test1.index)\n",
    "    test_arts1 = list(user_item_test1.columns)\n",
    "    \n",
    "    return user_item_train1, user_item_test1, test_idx1, test_arts1\n",
    "\n",
    "user_item_train1, user_item_test1, test_idx1, test_arts1 = create_test_and_train_user_item(df_train1, df_test1)\n",
    "\n"
   ]
  },
  {
   "cell_type": "code",
   "execution_count": 53,
   "metadata": {},
   "outputs": [
    {
     "data": {
      "text/plain": [
       "(682, 574)"
      ]
     },
     "execution_count": 53,
     "metadata": {},
     "output_type": "execute_result"
    }
   ],
   "source": [
    "user_item_test1.shape"
   ]
  },
  {
   "cell_type": "code",
   "execution_count": 54,
   "metadata": {},
   "outputs": [],
   "source": [
    "train_idx1 = user_item_train1.index\n",
    "train_arts1 = user_item_train1.columns"
   ]
  },
  {
   "cell_type": "code",
   "execution_count": 55,
   "metadata": {},
   "outputs": [
    {
     "data": {
      "text/plain": [
       "20"
      ]
     },
     "execution_count": 55,
     "metadata": {},
     "output_type": "execute_result"
    }
   ],
   "source": [
    "test_user_subset1 = np.intersect1d(test_idx1, train_idx1)\n",
    "\n",
    "len(np.intersect1d(test_idx1, train_idx1))"
   ]
  },
  {
   "cell_type": "code",
   "execution_count": 56,
   "metadata": {},
   "outputs": [
    {
     "data": {
      "text/plain": [
       "662"
      ]
     },
     "execution_count": 56,
     "metadata": {},
     "output_type": "execute_result"
    }
   ],
   "source": [
    "user_item_test1.shape[0] - len(test_user_subset1)"
   ]
  },
  {
   "cell_type": "code",
   "execution_count": 61,
   "metadata": {},
   "outputs": [],
   "source": [
    "\n",
    "a = 662 \n",
    "b = 574 \n",
    "c = 20 \n",
    "d = 0 \n",
    "\n",
    "\n",
    "sol_4_dict1 = {\n",
    "    'How many users can we make predictions for in the test set?':c, \n",
    "    'How many users in the test set are we not able to make predictions for because of the cold start problem?':a, \n",
    "    'How many movies can we make predictions for in the test set?':b,\n",
    "    'How many movies in the test set are we not able to make predictions for because of the cold start problem?':d, \n",
    "}\n",
    "\n",
    "u_train1, s_train1, vt_train1 = np.linalg.svd(user_item_train1)\n",
    "\n",
    "test_rows_idx1 = user_item_train1.index.isin(test_idx1)\n",
    "test_col_idxs1 = user_item_train1.columns.isin(test_arts1)\n",
    "u_test1 = u_train1[test_rows_idx1, :]\n",
    "vt_test1 = vt_train1[:, test_col_idxs1]\n",
    "\n",
    "\n",
    "user_present_both1 = np.intersect1d(user_item_test1.index, user_item_train1.index)\n",
    "user_item_test_predictable1 = user_item_test1[user_item_test1.index.isin(user_present_both1)]\n",
    "\n",
    "num_latent_feats = np.arange(10,700+10,20)\n",
    "sum_errs_train1 = []\n",
    "sum_errs_test1 = []\n",
    "\n",
    "for k in num_latent_feats1:\n",
    "    s_train_lat1, u_train_lat1, vt_train_lat1 = np.diag(s_train1[:k]), u_train1[:, :k], vt_train1[:k, :]\n",
    "    u_test_lat1, vt_test_lat1 = u_test1[:, :k], vt_test1[:k, :]\n",
    "    \n",
    "    user_item_train_est1 = np.around(np.dot(np.dot(u_train_lat1, s_train_lat1), vt_train_lat1))\n",
    "    user_item_test_est1 = np.around(np.dot(np.dot(u_test_lat1, s_train_lat1), vt_test_lat1))\n",
    "    \n",
    "    diffs_train1 = np.subtract(user_item_train1, user_item_train_est1)\n",
    "    diffs_test1 = np.subtract(user_item_test_predictable1, user_item_test_est1)\n",
    "    \n",
    "    err_train1 = np.sum(np.sum(np.abs(diffs_train1)))\n",
    "    err_test1 = np.sum(np.sum(np.abs(diffs_test1)))\n",
    "    sum_errs_train1.append(err_train1)\n",
    "    sum_errs_test1.append(err_test1)\n",
    "\n"
   ]
  },
  {
   "cell_type": "code",
   "execution_count": 62,
   "metadata": {},
   "outputs": [
    {
     "name": "stdout",
     "output_type": "stream",
     "text": [
      "(4487, 4487)\n",
      "(714,)\n",
      "(714, 714)\n"
     ]
    }
   ],
   "source": [
    "\n",
    "\n",
    "print(u_train1.shape)\n",
    "print(s_train1.shape)\n",
    "print(vt_train1.shape)\n",
    "\n"
   ]
  },
  {
   "cell_type": "code",
   "execution_count": 64,
   "metadata": {},
   "outputs": [
    {
     "data": {
      "image/png": "[encoded data removed]",
      "text/plain": [
       "<Figure size 432x288 with 1 Axes>"
      ]
     },
     "metadata": {
      "needs_background": "light"
     },
     "output_type": "display_data"
    }
   ],
   "source": [
    "\n",
    "\n",
    "test_user_subset1 = np.intersect1d(test_idx1, train_idx1)\n",
    "\n",
    "len(np.intersect1d(test_idx1, train_idx1))\n",
    "test_articles_subset1 = np.intersect1d(test_arts1, train_arts1)\n",
    "\n",
    "len(np.intersect1d(test_arts1, train_arts1))\n",
    "user_item_test_mat1 = user_item_test1.loc[test_user_subset1,test_articles_subset1]\n",
    "num_latent_feats1 = np.arange(10,570+10,20)\n",
    "sum_errs1 = []\n",
    "\n",
    "for k in num_latent_feats1:\n",
    "    s_train_new1, u_train_new1, vt_train_new1 = np.diag(s_train1[:k]), u_train1[:, :k], vt_train1[:k, :]\n",
    "    s_test_new1, u_test_new1, vt_test_new1 = s_train_new1, u_test1[:, :k], vt_test1[:k, :]\n",
    "    \n",
    "    user_item_test_est1 = np.around(np.dot(np.dot(u_test_new1, s_test_new1), vt_test_new1))\n",
    "    \n",
    "    diffs1 = np.subtract(user_item_test_mat1, user_item_test_est1)\n",
    "    \n",
    "    err1 = np.sum(np.sum(np.abs(diffs1)))\n",
    "    sum_errs1.append(err1)\n",
    "    \n",
    "    \n",
    "plt.plot(num_latent_feats1, 1 - np.array(sum_errs1)/df.shape[0]);\n",
    "plt.grid();\n",
    "plt.xlabel('Number of Latent Features');\n",
    "plt.ylabel('Test Set Accuracy');\n",
    "plt.title('Test Set Accuracy vs. Number of Latent Features');\n",
    "\n"
   ]
  },
  {
   "cell_type": "code",
   "execution_count": 66,
   "metadata": {},
   "outputs": [
    {
     "data": {
      "image/png": "[encoded data removed]",
      "text/plain": [
       "<Figure size 720x504 with 1 Axes>"
      ]
     },
     "metadata": {
      "needs_background": "light"
     },
     "output_type": "display_data"
    }
   ],
   "source": [
    "\n",
    "\n",
    "plt.figure(figsize=(10, 7))\n",
    "plt.plot(num_latent_feats1, 1 - np.array(sum_errs1)/(user_item_train1.shape[0] \n",
    "                                                         * user_item_test1.shape[1]), label='Train')\n",
    "plt.plot(num_latent_feats1, 1 - np.array(sum_errs1)/(user_item_test1.shape[0] \n",
    "                                                        * user_item_test1.shape[1]), label='Test')\n",
    "plt.xlabel('# Latent Features')\n",
    "plt.ylabel('Prediction Accuracy')\n",
    "plt.legend()\n",
    "plt.title('Training/Test Accuracy vs. Number of Latent Features')\n",
    "plt.show()\n",
    "\n"
   ]
  },
  {
   "cell_type": "code",
   "execution_count": null,
   "metadata": {},
   "outputs": [],
   "source": [
    "# Which Test to use\n",
    "Use the cell below to comment on the results you found in the previous question. Given the circumstances of your results,\n",
    "discuss what you might do to determine if the recommendations you make with any of the above recommendation systems are an \n",
    "improvement to how users currently find articles?\n",
    "\n",
    "The first important thing to note is that we only have a sample of 20 users in which to make predictions on \n",
    "and generalize the model. This is a very small sample to base any solid conclusions on. And even though the \n",
    "accuracy score seems very high this is largely due to the imbalance between the two classes, we have many more 0's than 1's.\n",
    "\n",
    "Based on the accuracy graph we have produced above, the number of latent features of around 150 (somewhere between 100 and 200) \n",
    "based on the \"elbow\" of the graph would be a good value to use for SVD in our recommendation model.\n",
    "\n",
    "However, considering the low sample, a better approach might be to do an online test instead of an offline test to \n",
    "determine the impact of the recommendation functions. We could use a type of A/B testing where we split the users into 2 groups , \n",
    "with the first group continuing with the old recommenadation system and the second group using the new recommendation functions. \n",
    "We then measure the mean interactions between the two groups and use hypothesis testing to see if the second group has an \n",
    "increased interaction with the articles at a given confidence level."
   ]
  },
  {
   "cell_type": "code",
   "execution_count": 109,
   "metadata": {},
   "outputs": [
    {
     "data": {
      "text/plain": [
       "4294967295"
      ]
     },
     "execution_count": 109,
     "metadata": {},
     "output_type": "execute_result"
    }
   ],
   "source": [
    "\n",
    "\n",
    "from subprocess import call\n",
    "call(['python', '-m', 'nbconvert', 'Recommendations_with_IBM.ipynb'])\n",
    "\n"
   ]
  },
  {
   "cell_type": "code",
   "execution_count": null,
   "metadata": {},
   "outputs": [],
   "source": []
  },
  {
   "cell_type": "code",
   "execution_count": null,
   "metadata": {},
   "outputs": [],
   "source": []
  },
  {
   "cell_type": "code",
   "execution_count": null,
   "metadata": {},
   "outputs": [],
   "source": []
  },
  {
   "cell_type": "code",
   "execution_count": null,
   "metadata": {},
   "outputs": [],
   "source": []
  }
 ],
 "metadata": {
  "kernelspec": {
   "display_name": "Python 3",
   "language": "python",
   "name": "python3"
  },
  "language_info": {
   "codemirror_mode": {
    "name": "ipython",
    "version": 3
   },
   "file_extension": ".py",
   "mimetype": "text/x-python",
   "name": "python",
   "nbconvert_exporter": "python",
   "pygments_lexer": "ipython3",
   "version": "3.7.4"
  }
 },
 "nbformat": 4,
 "nbformat_minor": 2
}
